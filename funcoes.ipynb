{
 "cells": [
  {
   "cell_type": "markdown",
   "metadata": {},
   "source": [
    "# Funções e programação defensiva"
   ]
  },
  {
   "cell_type": "markdown",
   "metadata": {},
   "source": [
    "## License\n",
    "\n",
    "All content can be freely used and adapted under the terms of the \n",
    "[Creative Commons Attribution 4.0 International License](http://creativecommons.org/licenses/by/4.0/).\n",
    "\n",
    "![Creative Commons License](https://i.creativecommons.org/l/by/4.0/88x31.png)"
   ]
  },
  {
   "cell_type": "markdown",
   "metadata": {},
   "source": [
    "## Imports\n",
    "\n",
    "Coloque **todos** os `import` na célula abaixo. Não se esqueça do `%matplotlib inline` para que os gráficos apareçam no notebook."
   ]
  },
  {
   "cell_type": "code",
   "execution_count": 4,
   "metadata": {
    "collapsed": false
   },
   "outputs": [
    {
     "name": "stdout",
     "output_type": "stream",
     "text": [
      "Using matplotlib backend: Qt4Agg\n"
     ]
    }
   ],
   "source": [
    "import numpy as np  # Biblioteca para cálculo numérico do Python\n",
    "%matplotlib\n",
    "%matplotlib inline"
   ]
  },
  {
   "cell_type": "markdown",
   "metadata": {},
   "source": [
    "## Funções\n",
    "\n",
    "### Tarefa - Criando uma função \n",
    "\n",
    "Crie duas funções:\n",
    "\n",
    "* `celsius_para_kelvin` que recebe a temperatura em Celsius como argumento e retorna a temperatura convertida para Kelvin\n",
    "* `kelvin_para_fahr` que recebe uma temperatura em Kelvin e a converte para Fahrenheit\n",
    "\n",
    "Lembrando que:\n",
    "\n",
    "* Kelvin = Celsius + 273.15\n",
    "* Fahrenheit = (Kelvin - 273.15)*1.8 + 32"
   ]
  },
  {
   "cell_type": "code",
   "execution_count": 5,
   "metadata": {
    "collapsed": true
   },
   "outputs": [],
   "source": [
    "def celsius_para_kelvin(temp): # definir a função celsius_para_kelvin tendo o valor em temp\n",
    "    resultado = temp + 273.15 # pega o valor que esta em temp e soma com 273.15\n",
    "    return resultado #retorna o resultado em Kelvin"
   ]
  },
  {
   "cell_type": "code",
   "execution_count": 6,
   "metadata": {
    "collapsed": true
   },
   "outputs": [],
   "source": [
    "def kelvin_para_fahr(temp): # definir a função kelvin_para_fahr tendo o valor em temp\n",
    "    resultado = (temp - 273.15)*1.8 + 32 # pega o valor que esta em temp subtraindo de 273.15 e apos isso multiplicando por1.8, e ´pr fim somando a 32\n",
    "    return resultado #retorna o resultado em Fahrenheit"
   ]
  },
  {
   "cell_type": "markdown",
   "metadata": {},
   "source": [
    "As células abaixo executam a sua função e comparam com os resultados esperados. Use-as para verificar se a sua função está funcionando (todas as células devem imprimir `True`)."
   ]
  },
  {
   "cell_type": "code",
   "execution_count": 7,
   "metadata": {
    "collapsed": false
   },
   "outputs": [
    {
     "data": {
      "text/plain": [
       "True"
      ]
     },
     "execution_count": 7,
     "metadata": {},
     "output_type": "execute_result"
    }
   ],
   "source": [
    "celsius_para_kelvin(0) == 273.15 # Executar a função acima e comparar com resultado "
   ]
  },
  {
   "cell_type": "code",
   "execution_count": 8,
   "metadata": {
    "collapsed": false
   },
   "outputs": [
    {
     "data": {
      "text/plain": [
       "True"
      ]
     },
     "execution_count": 8,
     "metadata": {},
     "output_type": "execute_result"
    }
   ],
   "source": [
    "celsius_para_kelvin(-273.15) == 0 # Executar a função acima e comparar com resultado "
   ]
  },
  {
   "cell_type": "code",
   "execution_count": 9,
   "metadata": {
    "collapsed": false
   },
   "outputs": [
    {
     "data": {
      "text/plain": [
       "True"
      ]
     },
     "execution_count": 9,
     "metadata": {},
     "output_type": "execute_result"
    }
   ],
   "source": [
    "celsius_para_kelvin(42) == 315.15 # Executar a função acima e comparar com resultado "
   ]
  },
  {
   "cell_type": "code",
   "execution_count": 10,
   "metadata": {
    "collapsed": false
   },
   "outputs": [
    {
     "data": {
      "text/plain": [
       "True"
      ]
     },
     "execution_count": 10,
     "metadata": {},
     "output_type": "execute_result"
    }
   ],
   "source": [
    "kelvin_para_fahr(273.15) == 32 # Executar a função acima e comparar com resultado "
   ]
  },
  {
   "cell_type": "code",
   "execution_count": 11,
   "metadata": {
    "collapsed": false
   },
   "outputs": [
    {
     "data": {
      "text/plain": [
       "True"
      ]
     },
     "execution_count": 11,
     "metadata": {},
     "output_type": "execute_result"
    }
   ],
   "source": [
    "kelvin_para_fahr(373.15) == 212 # Executar a função acima e comparar com resultado "
   ]
  },
  {
   "cell_type": "markdown",
   "metadata": {},
   "source": [
    "### Tarefa - Compondo funções\n",
    "\n",
    "Crie uma função chamada `celsius_para_fahr` que recebe a temperatura em Celsius e retorna a temperatura em Fahrenheit. Você deve **obrigatoriamente** utilizar as duas funções criadas anteriormente para calcular o resultado."
   ]
  },
  {
   "cell_type": "code",
   "execution_count": 12,
   "metadata": {
    "collapsed": true
   },
   "outputs": [],
   "source": [
    "def celsius_para_fahr(temp): # definir a função celsius_para_fahr tendo o valor em temp\n",
    "    resultado = kelvin_para_fahr(celsius_para_kelvin(temp) ) #o resultado e dado pela utilização das duas funcoes geradas acima, onde primeiro o tem´e transformado em kelvin e depois o valor obtido para  Fahrenheit\n",
    "    return resultado #retorna o resultado em Fahrenheit\n",
    "    "
   ]
  },
  {
   "cell_type": "markdown",
   "metadata": {},
   "source": [
    "As células abaixo executam a sua função e comparam com os resultados esperados. Use-as para verificar se a sua função está funcionando (todas as células devem imprimir `True`)."
   ]
  },
  {
   "cell_type": "code",
   "execution_count": 13,
   "metadata": {
    "collapsed": false
   },
   "outputs": [
    {
     "data": {
      "text/plain": [
       "True"
      ]
     },
     "execution_count": 13,
     "metadata": {},
     "output_type": "execute_result"
    }
   ],
   "source": [
    "celsius_para_fahr(0) == 32 # Executar a função acima e comparar com resultado "
   ]
  },
  {
   "cell_type": "code",
   "execution_count": 14,
   "metadata": {
    "collapsed": false
   },
   "outputs": [
    {
     "data": {
      "text/plain": [
       "True"
      ]
     },
     "execution_count": 14,
     "metadata": {},
     "output_type": "execute_result"
    }
   ],
   "source": [
    "celsius_para_fahr(100) == 212 # Executar a função acima e comparar com resultado "
   ]
  },
  {
   "cell_type": "markdown",
   "metadata": {},
   "source": [
    "### Tarefa - Documentando funções\n",
    "\n",
    "Faça as funções acima novamente (**com o mesmo nome**), dessa vez criando *docstrings* para essas funções. A docstring da função deve ser no formato:\n",
    "\n",
    "    def minha_funcao(coisa1, coisa2):\n",
    "        \"\"\"\n",
    "        Calcula/faz tal e tal coisa utilizando a formula de tal\n",
    "        e assumindo que tal.\n",
    "        \n",
    "        Exemplos:\n",
    "        minha_funcao(10, 20) => 1345\n",
    "        minha_funcao(34, 42) => 145\n",
    "        \"\"\""
   ]
  },
  {
   "cell_type": "code",
   "execution_count": 15,
   "metadata": {
    "collapsed": false
   },
   "outputs": [],
   "source": [
    "def celsius_para_kelvin(temp): # definir a função celsius_para_kelvin tendo o valor em temp\n",
    "    \"\"\"\n",
    "    A função recebe a temperatura inicial em Celsius como argumento e a converte para Kelvin\n",
    "    sabendo que a temperatura em kelvin é dada por: temperatura_celcius + 273.15.\n",
    "    Esta funcao so funciona com temperaturas iniciais em celsius\n",
    "    \"\"\"\n",
    "    # Docstring que fornece um comentário sobre o funcionamento da função\n",
    "    resultado = temp + 273.15 #Recebe a temperatura Celsius como argumento, no caso o valor esta em temp\n",
    "    return resultado # Retornada para Kelvin "
   ]
  },
  {
   "cell_type": "code",
   "execution_count": 16,
   "metadata": {
    "collapsed": false
   },
   "outputs": [],
   "source": [
    "def kelvin_para_fahr(temp): # definir a função Kelvin_para_fahr tendo o valor em temp\n",
    "    \"\"\"\n",
    "    A funcao  recebe uma temperatura inicial em Kelvin e a converte para Fahrenheit.\n",
    "    SAbendo que a temperatura em kelvin é dada por: (temperatura em kelvin - 273.15)*1.8 + 32.\n",
    "    Esta funcao so funciona com temperatura inicial em kelvin.\n",
    "    \"\"\"\n",
    "     # Docstring que fornece um comentário sobre o funcionamento da função\n",
    "    resultado = (temp - 273.15)*1.8 + 32  #Recebe a temperatura Kelvin como argumento, no caso o valor esta em temp\n",
    "    return resultado # Retornada para Fahrenheit"
   ]
  },
  {
   "cell_type": "code",
   "execution_count": 17,
   "metadata": {
    "collapsed": true
   },
   "outputs": [],
   "source": [
    "def celsius_para_fahr(temp): # definir a função celsius_para_fahr tendo o valor em temp\n",
    "    \"\"\"\n",
    "    A função recebe a temperatura inicial em Celsius como argumento e a converte para Fahrenheit pelos condicoes:\n",
    "    1-utilizado duas funcoes para que isso ocorra, primeiramente é convertido a temperatura de celsius para kelvin utilizando a funcao \"celsius_para_kelvin\",\n",
    "    2-logo em seguida essa temperatura retornada é transformada para Fahrenheit atraves da funcao \"kelvin_para_fahr\n",
    "    \"\"\"\n",
    "    # Docstring que fornece um comentário sobre o funcionamento da função\n",
    "    resultado = kelvin_para_fahr(celsius_para_kelvin(temp) ) #Recebe a temperatura celsius como argumento que está dentro da função que transformar esta valor de kelvin para fahrenheit, no caso o valor esta em temp\n",
    "    return resultado # Retornada para Fahrenheit  \n",
    "    "
   ]
  },
  {
   "cell_type": "markdown",
   "metadata": {},
   "source": [
    "As células abaixo imprimem as docstrings de cada uma das funções."
   ]
  },
  {
   "cell_type": "code",
   "execution_count": 18,
   "metadata": {
    "collapsed": false
   },
   "outputs": [
    {
     "name": "stdout",
     "output_type": "stream",
     "text": [
      "Help on function celsius_para_kelvin in module __main__:\n",
      "\n",
      "celsius_para_kelvin(temp)\n",
      "    A função recebe a temperatura inicial em Celsius como argumento e a converte para Kelvin\n",
      "    sabendo que a temperatura em kelvin é dada por: temperatura_celcius + 273.15.\n",
      "    Esta funcao so funciona com temperaturas iniciais em celsius\n",
      "\n"
     ]
    }
   ],
   "source": [
    "help(celsius_para_kelvin) #fornece explicação para o funcionamento da função"
   ]
  },
  {
   "cell_type": "code",
   "execution_count": 19,
   "metadata": {
    "collapsed": false
   },
   "outputs": [
    {
     "name": "stdout",
     "output_type": "stream",
     "text": [
      "Help on function kelvin_para_fahr in module __main__:\n",
      "\n",
      "kelvin_para_fahr(temp)\n",
      "    A funcao  recebe uma temperatura inicial em Kelvin e a converte para Fahrenheit.\n",
      "    SAbendo que a temperatura em kelvin é dada por: (temperatura em kelvin - 273.15)*1.8 + 32.\n",
      "    Esta funcao so funciona com temperatura inicial em kelvin.\n",
      "\n"
     ]
    }
   ],
   "source": [
    "help(kelvin_para_fahr) #fornece explicação para o funcionamento da função"
   ]
  },
  {
   "cell_type": "code",
   "execution_count": 20,
   "metadata": {
    "collapsed": false
   },
   "outputs": [
    {
     "name": "stdout",
     "output_type": "stream",
     "text": [
      "Help on function celsius_para_fahr in module __main__:\n",
      "\n",
      "celsius_para_fahr(temp)\n",
      "    A função recebe a temperatura inicial em Celsius como argumento e a converte para Fahrenheit pelos condicoes:\n",
      "    1-utilizado duas funcoes para que isso ocorra, primeiramente é convertido a temperatura de celsius para kelvin utilizando a funcao \"celsius_para_kelvin\",\n",
      "    2-logo em seguida essa temperatura retornada é transformada para Fahrenheit atraves da funcao \"kelvin_para_fahr\n",
      "\n"
     ]
    }
   ],
   "source": [
    "help(celsius_para_fahr) #fornece explicação para o funcionamento da função"
   ]
  },
  {
   "cell_type": "markdown",
   "metadata": {},
   "source": [
    "## Programação defensiva"
   ]
  },
  {
   "cell_type": "markdown",
   "metadata": {},
   "source": [
    "### Tarefa - Checando os inputs\n",
    "\n",
    "Crie novamente a função `celsius_para_kelvin` (com a docstring definida acima). Dessa vez, utilize o comando `assert` para verificar se a temperatura permitida é maior ou igual ao 0 absoluto (0 Kelvin ou -273.15 Celsius). O `assert` deve vir antes do cálculo em si."
   ]
  },
  {
   "cell_type": "code",
   "execution_count": 57,
   "metadata": {
    "collapsed": false
   },
   "outputs": [],
   "source": [
    "def celsius_para_kelvin(temp): #definir a função de conversão da temperatura da escala Celsius p/ Kelvin\n",
    "    \"\"\"\n",
    "    A função recebe a temperatura inicial em Celsius como argumento e a converte para Kelvin\n",
    "    sabendo que a temperatura em kelvin é dada por: temperatura_celcius + 273.15.\n",
    "    Esta funcao so funciona com temperaturas iniciais em celsius\n",
    "    \"\"\"\n",
    "    # docstring que fornece  comentário sobre o funcionamento da função\n",
    "    assert temp >= -273.15 , \"Temperatura em celsius inferior a -273.15 \" \n",
    "    resultado = temp + 273.15 # A função recebe a temperatura Celsius (temp) como argumento\n",
    "    return resultado # retorna o resultado"
   ]
  },
  {
   "cell_type": "markdown",
   "metadata": {},
   "source": [
    "As células abaixo testam se as funções estão fazendo a coisa certa (falhando quando menor que zero absoluto e não falhando caso contrário)."
   ]
  },
  {
   "cell_type": "code",
   "execution_count": 58,
   "metadata": {
    "collapsed": false
   },
   "outputs": [
    {
     "ename": "AssertionError",
     "evalue": "Temperatura em celsius inferior a -273.15 ",
     "output_type": "error",
     "traceback": [
      "\u001b[1;31m---------------------------------------------------------------------------\u001b[0m",
      "\u001b[1;31mAssertionError\u001b[0m                            Traceback (most recent call last)",
      "\u001b[1;32m<ipython-input-58-f86fc0be9a2b>\u001b[0m in \u001b[0;36m<module>\u001b[1;34m()\u001b[0m\n\u001b[1;32m----> 1\u001b[1;33m \u001b[0mcelsius_para_kelvin\u001b[0m\u001b[1;33m(\u001b[0m\u001b[1;33m-\u001b[0m\u001b[1;36m300\u001b[0m\u001b[1;33m)\u001b[0m  \u001b[1;31m# Deve gerar um AssertionError\u001b[0m\u001b[1;33m\u001b[0m\u001b[0m\n\u001b[0m",
      "\u001b[1;32m<ipython-input-57-2f5a024a2175>\u001b[0m in \u001b[0;36mcelsius_para_kelvin\u001b[1;34m(temp)\u001b[0m\n\u001b[0;32m      6\u001b[0m     \"\"\"\n\u001b[0;32m      7\u001b[0m     \u001b[1;31m# docstring que fornece  comentário sobre o funcionamento da função\u001b[0m\u001b[1;33m\u001b[0m\u001b[1;33m\u001b[0m\u001b[0m\n\u001b[1;32m----> 8\u001b[1;33m     \u001b[1;32massert\u001b[0m \u001b[0mtemp\u001b[0m \u001b[1;33m>=\u001b[0m \u001b[1;33m-\u001b[0m\u001b[1;36m273.15\u001b[0m \u001b[1;33m,\u001b[0m \u001b[1;34m\"Temperatura em celsius inferior a -273.15 \"\u001b[0m\u001b[1;33m\u001b[0m\u001b[0m\n\u001b[0m\u001b[0;32m      9\u001b[0m     \u001b[0mresultado\u001b[0m \u001b[1;33m=\u001b[0m \u001b[0mtemp\u001b[0m \u001b[1;33m+\u001b[0m \u001b[1;36m273.15\u001b[0m \u001b[1;31m# A função recebe a temperatura Celsius (temp) como argumento\u001b[0m\u001b[1;33m\u001b[0m\u001b[0m\n\u001b[0;32m     10\u001b[0m     \u001b[1;32mreturn\u001b[0m \u001b[0mresultado\u001b[0m \u001b[1;31m# retorna o resultado\u001b[0m\u001b[1;33m\u001b[0m\u001b[0m\n",
      "\u001b[1;31mAssertionError\u001b[0m: Temperatura em celsius inferior a -273.15 "
     ]
    }
   ],
   "source": [
    "celsius_para_kelvin(-300)  # Deve gerar um AssertionError"
   ]
  },
  {
   "cell_type": "code",
   "execution_count": 59,
   "metadata": {
    "collapsed": false
   },
   "outputs": [
    {
     "data": {
      "text/plain": [
       "0.0"
      ]
     },
     "execution_count": 59,
     "metadata": {},
     "output_type": "execute_result"
    }
   ],
   "source": [
    "celsius_para_kelvin(-273.15)  # Não deve falhar"
   ]
  },
  {
   "cell_type": "code",
   "execution_count": 60,
   "metadata": {
    "collapsed": false
   },
   "outputs": [
    {
     "ename": "AssertionError",
     "evalue": "Temperatura em celsius inferior a -273.15 ",
     "output_type": "error",
     "traceback": [
      "\u001b[1;31m---------------------------------------------------------------------------\u001b[0m",
      "\u001b[1;31mAssertionError\u001b[0m                            Traceback (most recent call last)",
      "\u001b[1;32m<ipython-input-60-e1398a9b49de>\u001b[0m in \u001b[0;36m<module>\u001b[1;34m()\u001b[0m\n\u001b[1;32m----> 1\u001b[1;33m \u001b[0mcelsius_para_kelvin\u001b[0m\u001b[1;33m(\u001b[0m\u001b[1;33m-\u001b[0m\u001b[1;36m273.16\u001b[0m\u001b[1;33m)\u001b[0m  \u001b[1;31m# Deve gerar um AssertionError\u001b[0m\u001b[1;33m\u001b[0m\u001b[0m\n\u001b[0m",
      "\u001b[1;32m<ipython-input-57-2f5a024a2175>\u001b[0m in \u001b[0;36mcelsius_para_kelvin\u001b[1;34m(temp)\u001b[0m\n\u001b[0;32m      6\u001b[0m     \"\"\"\n\u001b[0;32m      7\u001b[0m     \u001b[1;31m# docstring que fornece  comentário sobre o funcionamento da função\u001b[0m\u001b[1;33m\u001b[0m\u001b[1;33m\u001b[0m\u001b[0m\n\u001b[1;32m----> 8\u001b[1;33m     \u001b[1;32massert\u001b[0m \u001b[0mtemp\u001b[0m \u001b[1;33m>=\u001b[0m \u001b[1;33m-\u001b[0m\u001b[1;36m273.15\u001b[0m \u001b[1;33m,\u001b[0m \u001b[1;34m\"Temperatura em celsius inferior a -273.15 \"\u001b[0m\u001b[1;33m\u001b[0m\u001b[0m\n\u001b[0m\u001b[0;32m      9\u001b[0m     \u001b[0mresultado\u001b[0m \u001b[1;33m=\u001b[0m \u001b[0mtemp\u001b[0m \u001b[1;33m+\u001b[0m \u001b[1;36m273.15\u001b[0m \u001b[1;31m# A função recebe a temperatura Celsius (temp) como argumento\u001b[0m\u001b[1;33m\u001b[0m\u001b[0m\n\u001b[0;32m     10\u001b[0m     \u001b[1;32mreturn\u001b[0m \u001b[0mresultado\u001b[0m \u001b[1;31m# retorna o resultado\u001b[0m\u001b[1;33m\u001b[0m\u001b[0m\n",
      "\u001b[1;31mAssertionError\u001b[0m: Temperatura em celsius inferior a -273.15 "
     ]
    }
   ],
   "source": [
    "celsius_para_kelvin(-273.16)  # Deve gerar um AssertionError"
   ]
  },
  {
   "cell_type": "markdown",
   "metadata": {},
   "source": [
    "### Tarefa - Checando outputs\n",
    "\n",
    "Utilize comandos `assert` para verificar se a função `celsius_para_fahr` está retornando o valor correto para pelo menos **5 temperaturas diferentes**.\n",
    "\n",
    "Como exemplo, vou deixar pronto 1 dos testes (sim, esse conta como 1 dos 5):"
   ]
  },
  {
   "cell_type": "code",
   "execution_count": 66,
   "metadata": {
    "collapsed": false
   },
   "outputs": [],
   "source": [
    "#Reproduzir a funcao de conversao criada acima e comparar para checar se esta condiz com \n",
    "assert celsius_para_fahr(0) == 32\n",
    "assert celsius_para_fahr(25) == 77\n",
    "assert celsius_para_fahr(45) == 113\n",
    "assert celsius_para_fahr(200) == 392\n",
    "assert celsius_para_fahr(-5) == 23"
   ]
  },
  {
   "cell_type": "markdown",
   "metadata": {},
   "source": [
    "## Integrando tudo"
   ]
  },
  {
   "cell_type": "markdown",
   "metadata": {},
   "source": [
    "### Tarefa - Contas com matrizes\n",
    "\n",
    "Crie as funções abaixo:\n",
    "\n",
    "* `msoma`: recebe duas matrizes como entrada e retorna a soma dessas duas matrizes. Lembre-se que só é possível somar duas matrizes com o mesmo número de linhas e colunas.\n",
    "* `mmult`: recebe duas matrizes como entrada e retorna a multiplicação dessas matrizes. Lembre-se que só é possível multiplicar a matriz A por B se o número de colunas de A for igual ao número de linhas de B.\n",
    "* `vmult`: recebe uma matriz e um vetor como entrada e retorna a multiplicação da matriz pelo vetor.\n",
    "\n",
    "Todas as funções devem conter *docstrings* e `assert`s para conferir as entradas.\n",
    "\n",
    "**Dica**: Copie o código das aulas passadas."
   ]
  },
  {
   "cell_type": "code",
   "execution_count": 114,
   "metadata": {
    "collapsed": false
   },
   "outputs": [],
   "source": [
    "def msoma (A, B): #definição da funcao para calcular soma de matrizes\n",
    "    \"\"\"\n",
    "    Para adicionarmos duas ou mais matrizes é preciso que todas elas tenham o mesmo número de linhas e de colunas. A soma dessas matrizes irá resultar em outra matriz que também terá o mesmo número de linhas e de colunas.\n",
    "    Os termos deverão ser somados com os seus termos correspondentes. De forma genérica, o j-ésimo elemento da i-ésima linha de uma matriz A é Aij. Se temos duas matrizes A e B, a soma pode ser escrita como:\n",
    "    Cij=Aij+Bij\n",
    "    \"\"\"\n",
    "    C = [0]*len(A)  # Cria a matriz C \n",
    "    assert len(B) == len(A) , \"Só é possível somar duas matrizes com o mesmo número de linhas e colunas\" #Caso não ocorra essa condicao haverá erro para efetuar funcao\n",
    "\n",
    "    for i in range(0, len(A), 1) : # Andar sobre as linhas\n",
    "        C[i] = [0]*len(A[i])\n",
    "        assert len(A[i]) == len(B[i]), \"Matrizes com numeros de coluna incompativeis\" #condicao para efetuar funcao\n",
    "  \n",
    "        for j in range(0, len(A[i]), 1): # Anda sobre as colunas\n",
    "            C[i][j] = A[i][j] + B[i][j] # Coloca a matriz C como a soma de elementos da matriz A e B \n",
    "    return(C)"
   ]
  },
  {
   "cell_type": "code",
   "execution_count": 115,
   "metadata": {
    "collapsed": true
   },
   "outputs": [],
   "source": [
    "def mmult (A, B):  #definição da funcao para calcular a multiplicação de matrizes\n",
    "    C = [] # criação da lista C, vazia\n",
    "    nlina_a = len(matriz_A)\n",
    "    for i in range(0, nlin_a, 1): # Andar sobre as linhas\n",
    "       \n",
    "        linhas = []\n",
    "        ncol_b = len(A[i])\n",
    "        for j in range(0, ncol_b, 1): # Anda sobre as colunas\n",
    "            \n",
    "            somador = 0\n",
    "            for k in range(0, nlin_b, 1):\n",
    "                somador = somador + (A[i][k] * B[k][j])\n",
    "            linhas.append(somador)\n",
    "        C.append(linha)\n",
    "        return(C)"
   ]
  },
  {
   "cell_type": "code",
   "execution_count": null,
   "metadata": {
    "collapsed": true
   },
   "outputs": [],
   "source": []
  },
  {
   "cell_type": "markdown",
   "metadata": {},
   "source": [
    "Utilize as células abaixo para criar comandos `assert` que testem se suas funções produzem o resultado esperado. Utilize a função `np.allclose` do [numpy](http://numpy.org/) para verificar duas matrizes ou vetores possuem valores próximos (praticamente iguais). Exemplo:\n",
    "\n",
    "    A = [[1, 2], [3, 4]]\n",
    "    B = [[1, 2], [3, 4]]\n",
    "    np.allclose(A, B) -> True\n",
    "    \n",
    "    C = [[1.1, 2], [3, 4]]\n",
    "    np.allclose(A, C) -> False\n",
    "\n",
    "**Cada função deve ter pelo menos 4 testes**.\n",
    "\n",
    "Teste também se as suas funções falham quando a entrada é inadequada (dica: coloque esses casos cada um em uma célula).\n",
    "\n",
    "Como exemplo, deixo os primeiros testes prontos para vocês."
   ]
  },
  {
   "cell_type": "code",
   "execution_count": 116,
   "metadata": {
    "collapsed": false
   },
   "outputs": [],
   "source": [
    "# Testa se msoma produz o resultado esperado\n",
    "A = [[1, 2, 3], [4, 5, 6]]\n",
    "B = [[7, 8, 9], [10, 11, 12]]\n",
    "C = [[8, 10, 12], [14, 16, 18]]\n",
    "assert np.allclose(msoma(A, B), C)\n",
    "# Coloque abaixo os seus asserts\n"
   ]
  },
  {
   "cell_type": "code",
   "execution_count": 117,
   "metadata": {
    "collapsed": false
   },
   "outputs": [
    {
     "ename": "AssertionError",
     "evalue": "Matrizes com numeros de coluna incompativeis",
     "output_type": "error",
     "traceback": [
      "\u001b[1;31m---------------------------------------------------------------------------\u001b[0m",
      "\u001b[1;31mAssertionError\u001b[0m                            Traceback (most recent call last)",
      "\u001b[1;32m<ipython-input-117-21428eb441ea>\u001b[0m in \u001b[0;36m<module>\u001b[1;34m()\u001b[0m\n\u001b[1;32m----> 1\u001b[1;33m \u001b[0mmsoma\u001b[0m\u001b[1;33m(\u001b[0m\u001b[1;33m[\u001b[0m\u001b[1;33m[\u001b[0m\u001b[1;36m1\u001b[0m\u001b[1;33m,\u001b[0m \u001b[1;36m2\u001b[0m\u001b[1;33m,\u001b[0m \u001b[1;36m3\u001b[0m\u001b[1;33m]\u001b[0m\u001b[1;33m,\u001b[0m \u001b[1;33m[\u001b[0m\u001b[1;36m4\u001b[0m\u001b[1;33m,\u001b[0m \u001b[1;36m5\u001b[0m\u001b[1;33m,\u001b[0m \u001b[1;36m6\u001b[0m\u001b[1;33m]\u001b[0m\u001b[1;33m]\u001b[0m\u001b[1;33m,\u001b[0m \u001b[1;33m[\u001b[0m\u001b[1;33m[\u001b[0m\u001b[1;36m1\u001b[0m\u001b[1;33m,\u001b[0m \u001b[1;36m2\u001b[0m\u001b[1;33m]\u001b[0m\u001b[1;33m,\u001b[0m \u001b[1;33m[\u001b[0m\u001b[1;36m1\u001b[0m\u001b[1;33m,\u001b[0m \u001b[1;36m2\u001b[0m\u001b[1;33m]\u001b[0m\u001b[1;33m]\u001b[0m\u001b[1;33m)\u001b[0m  \u001b[1;31m# Deve produzir um AssertionError\u001b[0m\u001b[1;33m\u001b[0m\u001b[0m\n\u001b[0m",
      "\u001b[1;32m<ipython-input-114-b06a63a9eec2>\u001b[0m in \u001b[0;36mmsoma\u001b[1;34m(A, B)\u001b[0m\n\u001b[0;32m     10\u001b[0m     \u001b[1;32mfor\u001b[0m \u001b[0mi\u001b[0m \u001b[1;32min\u001b[0m \u001b[0mrange\u001b[0m\u001b[1;33m(\u001b[0m\u001b[1;36m0\u001b[0m\u001b[1;33m,\u001b[0m \u001b[0mlen\u001b[0m\u001b[1;33m(\u001b[0m\u001b[0mA\u001b[0m\u001b[1;33m)\u001b[0m\u001b[1;33m,\u001b[0m \u001b[1;36m1\u001b[0m\u001b[1;33m)\u001b[0m \u001b[1;33m:\u001b[0m \u001b[1;31m# Andar sobre as linhas\u001b[0m\u001b[1;33m\u001b[0m\u001b[0m\n\u001b[0;32m     11\u001b[0m         \u001b[0mC\u001b[0m\u001b[1;33m[\u001b[0m\u001b[0mi\u001b[0m\u001b[1;33m]\u001b[0m \u001b[1;33m=\u001b[0m \u001b[1;33m[\u001b[0m\u001b[1;36m0\u001b[0m\u001b[1;33m]\u001b[0m\u001b[1;33m*\u001b[0m\u001b[0mlen\u001b[0m\u001b[1;33m(\u001b[0m\u001b[0mA\u001b[0m\u001b[1;33m[\u001b[0m\u001b[0mi\u001b[0m\u001b[1;33m]\u001b[0m\u001b[1;33m)\u001b[0m\u001b[1;33m\u001b[0m\u001b[0m\n\u001b[1;32m---> 12\u001b[1;33m         \u001b[1;32massert\u001b[0m \u001b[0mlen\u001b[0m\u001b[1;33m(\u001b[0m\u001b[0mA\u001b[0m\u001b[1;33m[\u001b[0m\u001b[0mi\u001b[0m\u001b[1;33m]\u001b[0m\u001b[1;33m)\u001b[0m \u001b[1;33m==\u001b[0m \u001b[0mlen\u001b[0m\u001b[1;33m(\u001b[0m\u001b[0mB\u001b[0m\u001b[1;33m[\u001b[0m\u001b[0mi\u001b[0m\u001b[1;33m]\u001b[0m\u001b[1;33m)\u001b[0m\u001b[1;33m,\u001b[0m \u001b[1;34m\"Matrizes com numeros de coluna incompativeis\"\u001b[0m \u001b[1;31m#condicao para efetuar funcao\u001b[0m\u001b[1;33m\u001b[0m\u001b[0m\n\u001b[0m\u001b[0;32m     13\u001b[0m \u001b[1;33m\u001b[0m\u001b[0m\n\u001b[0;32m     14\u001b[0m         \u001b[1;32mfor\u001b[0m \u001b[0mj\u001b[0m \u001b[1;32min\u001b[0m \u001b[0mrange\u001b[0m\u001b[1;33m(\u001b[0m\u001b[1;36m0\u001b[0m\u001b[1;33m,\u001b[0m \u001b[0mlen\u001b[0m\u001b[1;33m(\u001b[0m\u001b[0mA\u001b[0m\u001b[1;33m[\u001b[0m\u001b[0mi\u001b[0m\u001b[1;33m]\u001b[0m\u001b[1;33m)\u001b[0m\u001b[1;33m,\u001b[0m \u001b[1;36m1\u001b[0m\u001b[1;33m)\u001b[0m\u001b[1;33m:\u001b[0m \u001b[1;31m# Anda sobre as colunas\u001b[0m\u001b[1;33m\u001b[0m\u001b[0m\n",
      "\u001b[1;31mAssertionError\u001b[0m: Matrizes com numeros de coluna incompativeis"
     ]
    }
   ],
   "source": [
    "msoma([[1, 2, 3], [4, 5, 6]], [[1, 2], [1, 2]])  # Deve produzir um AssertionError"
   ]
  },
  {
   "cell_type": "code",
   "execution_count": 118,
   "metadata": {
    "collapsed": false
   },
   "outputs": [
    {
     "ename": "AssertionError",
     "evalue": "Só é possível somar duas matrizes com o mesmo número de linhas e colunas",
     "output_type": "error",
     "traceback": [
      "\u001b[1;31m---------------------------------------------------------------------------\u001b[0m",
      "\u001b[1;31mAssertionError\u001b[0m                            Traceback (most recent call last)",
      "\u001b[1;32m<ipython-input-118-8600990d1189>\u001b[0m in \u001b[0;36m<module>\u001b[1;34m()\u001b[0m\n\u001b[1;32m----> 1\u001b[1;33m \u001b[0mmsoma\u001b[0m\u001b[1;33m(\u001b[0m\u001b[1;33m[\u001b[0m\u001b[1;33m[\u001b[0m\u001b[1;36m1\u001b[0m\u001b[1;33m,\u001b[0m \u001b[1;36m2\u001b[0m\u001b[1;33m,\u001b[0m \u001b[1;36m3\u001b[0m\u001b[1;33m]\u001b[0m\u001b[1;33m,\u001b[0m \u001b[1;33m[\u001b[0m\u001b[1;36m4\u001b[0m\u001b[1;33m,\u001b[0m \u001b[1;36m5\u001b[0m\u001b[1;33m,\u001b[0m \u001b[1;36m6\u001b[0m\u001b[1;33m]\u001b[0m\u001b[1;33m]\u001b[0m\u001b[1;33m,\u001b[0m \u001b[1;33m[\u001b[0m\u001b[1;33m[\u001b[0m\u001b[1;36m1\u001b[0m\u001b[1;33m,\u001b[0m \u001b[1;36m2\u001b[0m\u001b[1;33m,\u001b[0m \u001b[1;36m3\u001b[0m\u001b[1;33m]\u001b[0m\u001b[1;33m]\u001b[0m\u001b[1;33m)\u001b[0m  \u001b[1;31m# Deve produzir um AssertionError\u001b[0m\u001b[1;33m\u001b[0m\u001b[0m\n\u001b[0m",
      "\u001b[1;32m<ipython-input-114-b06a63a9eec2>\u001b[0m in \u001b[0;36mmsoma\u001b[1;34m(A, B)\u001b[0m\n\u001b[0;32m      6\u001b[0m     \"\"\"\n\u001b[0;32m      7\u001b[0m     \u001b[0mC\u001b[0m \u001b[1;33m=\u001b[0m \u001b[1;33m[\u001b[0m\u001b[1;36m0\u001b[0m\u001b[1;33m]\u001b[0m\u001b[1;33m*\u001b[0m\u001b[0mlen\u001b[0m\u001b[1;33m(\u001b[0m\u001b[0mA\u001b[0m\u001b[1;33m)\u001b[0m  \u001b[1;31m# Cria a matriz C\u001b[0m\u001b[1;33m\u001b[0m\u001b[0m\n\u001b[1;32m----> 8\u001b[1;33m     \u001b[1;32massert\u001b[0m \u001b[0mlen\u001b[0m\u001b[1;33m(\u001b[0m\u001b[0mB\u001b[0m\u001b[1;33m)\u001b[0m \u001b[1;33m==\u001b[0m \u001b[0mlen\u001b[0m\u001b[1;33m(\u001b[0m\u001b[0mA\u001b[0m\u001b[1;33m)\u001b[0m \u001b[1;33m,\u001b[0m \u001b[1;34m\"Só é possível somar duas matrizes com o mesmo número de linhas e colunas\"\u001b[0m \u001b[1;31m#Caso não ocorra essa condicao haverá erro para efetuar funcao\u001b[0m\u001b[1;33m\u001b[0m\u001b[0m\n\u001b[0m\u001b[0;32m      9\u001b[0m \u001b[1;33m\u001b[0m\u001b[0m\n\u001b[0;32m     10\u001b[0m     \u001b[1;32mfor\u001b[0m \u001b[0mi\u001b[0m \u001b[1;32min\u001b[0m \u001b[0mrange\u001b[0m\u001b[1;33m(\u001b[0m\u001b[1;36m0\u001b[0m\u001b[1;33m,\u001b[0m \u001b[0mlen\u001b[0m\u001b[1;33m(\u001b[0m\u001b[0mA\u001b[0m\u001b[1;33m)\u001b[0m\u001b[1;33m,\u001b[0m \u001b[1;36m1\u001b[0m\u001b[1;33m)\u001b[0m \u001b[1;33m:\u001b[0m \u001b[1;31m# Andar sobre as linhas\u001b[0m\u001b[1;33m\u001b[0m\u001b[0m\n",
      "\u001b[1;31mAssertionError\u001b[0m: Só é possível somar duas matrizes com o mesmo número de linhas e colunas"
     ]
    }
   ],
   "source": [
    "msoma([[1, 2, 3], [4, 5, 6]], [[1, 2, 3]])  # Deve produzir um AssertionError"
   ]
  },
  {
   "cell_type": "code",
   "execution_count": null,
   "metadata": {
    "collapsed": true
   },
   "outputs": [],
   "source": []
  },
  {
   "cell_type": "code",
   "execution_count": null,
   "metadata": {
    "collapsed": true
   },
   "outputs": [],
   "source": []
  },
  {
   "cell_type": "code",
   "execution_count": null,
   "metadata": {
    "collapsed": true
   },
   "outputs": [],
   "source": []
  },
  {
   "cell_type": "code",
   "execution_count": null,
   "metadata": {
    "collapsed": true
   },
   "outputs": [],
   "source": []
  },
  {
   "cell_type": "code",
   "execution_count": null,
   "metadata": {
    "collapsed": true
   },
   "outputs": [],
   "source": []
  },
  {
   "cell_type": "markdown",
   "metadata": {},
   "source": [
    "## Tarefa Bônus\n",
    "\n",
    "Crie a função:\n",
    "\n",
    "* `mtrans`: recebe uma matriz como entrada e retorna a transposta de dessa matriz. A transposta é a matriz com suas linhas transformadas em colunas.\n",
    "\n",
    "A função deve ter uma docstring, `assert`s para verificar a entrada e testes para verificar se o resultado é o esperado."
   ]
  },
  {
   "cell_type": "code",
   "execution_count": null,
   "metadata": {
    "collapsed": true
   },
   "outputs": [],
   "source": []
  },
  {
   "cell_type": "code",
   "execution_count": null,
   "metadata": {
    "collapsed": true
   },
   "outputs": [],
   "source": []
  },
  {
   "cell_type": "code",
   "execution_count": null,
   "metadata": {
    "collapsed": true
   },
   "outputs": [],
   "source": []
  },
  {
   "cell_type": "code",
   "execution_count": null,
   "metadata": {
    "collapsed": true
   },
   "outputs": [],
   "source": []
  }
 ],
 "metadata": {
  "kernelspec": {
   "display_name": "Python 3",
   "language": "python",
   "name": "python3"
  },
  "language_info": {
   "codemirror_mode": {
    "name": "ipython",
    "version": 3
   },
   "file_extension": ".py",
   "mimetype": "text/x-python",
   "name": "python",
   "nbconvert_exporter": "python",
   "pygments_lexer": "ipython3",
   "version": "3.4.3"
  }
 },
 "nbformat": 4,
 "nbformat_minor": 0
}
